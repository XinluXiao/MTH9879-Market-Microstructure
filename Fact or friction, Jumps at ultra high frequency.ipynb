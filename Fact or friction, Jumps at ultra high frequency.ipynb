{
 "cells": [
  {
   "cell_type": "markdown",
   "metadata": {
    "slideshow": {
     "slide_type": "slide"
    }
   },
   "source": [
    "## Fact or friction: Jumps at ultra high frequency\n",
    "### Kim Christensen, Roel Oomen, Mark Podolskij*\n",
    "### Presenters: Yuan Hu, Xinlu Xiao"
   ]
  },
  {
   "cell_type": "markdown",
   "metadata": {
    "slideshow": {
     "slide_type": "slide"
    }
   },
   "source": [
    "### Traditional Analysis\n",
    "\n",
    "\n",
    "-Traditional low-frequency method proved that jump variation had contributed to 10%-20% total variation.\n",
    "\n",
    "-Usually high frequency data are polluted by microstructure noise.\n",
    "<h2><img src=\"https://raw.githubusercontent.com/XinluXiao/MTH9879-Market-Microstructure/master/presentation/figure1.png\" align = \"center\" width=800></h2>\n"
   ]
  },
  {
   "cell_type": "markdown",
   "metadata": {
    "slideshow": {
     "slide_type": "slide"
    }
   },
   "source": [
    "### What did this paper do?\n",
    "\n",
    "-Provide a detailed study into the magnitude of the jump based on the milli-second time-stamped tick data covering US large-cap stocks, equity indices, foreign currency rates\n",
    "\n",
    "* Pre-averaging: infer the diffusive- and jump-variation from discretely sampled and noisy observation\n",
    "\n",
    "* Conduct statistical tests on jump component\n",
    "\n",
    "* Develop and implement a novel estimator of a jump-robust and psd covariance matrix\n",
    "\n",
    "* Discuss the distinction between price-jumps and price-outliers\n",
    "\n",
    "### What did this paper find?\n",
    "\n",
    "-<font color=red> Jump component: $1\\%$ total asset price variability.</font>\n",
    "\n",
    "-Applications based on the finding: ex. delta-hedging"
   ]
  },
  {
   "cell_type": "markdown",
   "metadata": {
    "slideshow": {
     "slide_type": "slide"
    }
   },
   "source": [
    "### Theoretical framework\n",
    "\n",
    "-Jumps: instantaneous and discrete moves in price\n",
    "\n",
    "-Logarithmic price $X = (X_t)_{t \\geq 0}$ ,defined on a filtered probability space $(\\Omega, \\mathcal{F}, (\\mathcal{F}_t)_{t \\geq 0}, \\mathbb{P})$\n",
    "$$ X_t = X_0 + \\int_0^t a_s ds + \\int_0^t \\sigma_s dW_s + \\sum_{i=1}^{N_t^J} J_i $$\n",
    "\n",
    "-Assumption: $\\sigma$ does not vanish and it satisfies the equation:\n",
    "$$ \\sigma_t = \\sigma_0 + \\int_0^t a_s^{'} ds + \\int_0^t \\sigma_s^{'}dW_s + \\int_0^t v_s^{'}dB_s^{'}$$\n",
    "\n",
    "-Realized variation(RV): for $i = 1,...N$\n",
    "$$ RV_N[X] = \\sum_{i=1}^{N} |\\Delta_i^N X|^2 \\quad \\text{where} \\ \\Delta_i^N X = X_{\\frac{i}{N}} - X_{\\frac{(i-1)}{N}}$$\n",
    "$$ RV_N[X] \\xrightarrow{\\text{p}} [X]_1 \\quad \\text{as}\\ N \\rightarrow \\infty$$\n",
    "\n",
    "-Bipower variation(BV):\n",
    "$$ BV_N[X] = \\frac{N}{N-1} \\frac{1}{\\mu^2} \\sum_{i = 1}^N |\\Delta_{i-1}^{N} X| |\\Delta_i^N X| \\quad \\text{where} \\ \\mu = E[|N(0,1)|] = \\sqrt{\\frac{2}{\\pi}}$$\n",
    "$$ BV_N[X] \\xrightarrow{\\text{p}} \\int_0^1 \\sigma_s^2 ds \\quad \\text{as}\\ N \\rightarrow \\infty$$\n",
    "\n",
    "-Jump variation(JV):\n",
    "$$ RV_N[X] - BV_N[X] \\xrightarrow{\\text{p}} \\sum_{i = 1}^{N_1^J} J_i^2$$\n"
   ]
  },
  {
   "cell_type": "markdown",
   "metadata": {
    "slideshow": {
     "slide_type": "slide"
    }
   },
   "source": [
    "### Smoothing: how to approximate jump variation\n",
    "\n",
    "$$Y = X + \\mu$$\n",
    "\n",
    "-How to infer the diffusive- and jump-variation components from discretely sampled and noisy observation of the underlying process?\n",
    "\n",
    "-<font color=blue> Pre-average! </font>\n",
    "\n",
    "* enforce continuity on the price path\n",
    "* smooth out diffusive return variation\n",
    "* keep the relative contribution of stochatic volatility and jumps intact\n",
    "\n",
    "$$\\bar{Y}_i^N = \\sum_{j=1}^{K-1} g\\left(\\frac{j}{K}\\right)\\Delta_{i+j}^N Y, \\quad \\text{for} \\ i = 0,...,N-K+1 \\quad \\text{where} \\ g(x) = \\min(x,1-x)$$\n",
    "\n",
    "-Noise-robust versions of RV and BV:\n",
    "$$RV_N^*[Y] = \\frac{N}{N-K+2}\\frac{1}{K \\psi_2^K} \\sum_{i=0}^{N-K+1} \\left|\\bar{Y}_i^N\\right|^2 - \\frac{\\psi_1^K}{\\theta^2 \\psi_2^K} \\omega^2$$\n",
    "$$BV_N^*[Y] = \\frac{N}{N-2K+2}\\frac{1}{K \\psi_2^K \\mu_1^2} \\sum_{i=0}^{N-2K+1} \\left|\\bar{Y}_i^N\\right|\\left|\\bar{Y}_{i+K}^N\\right| - \\frac{\\psi_1^K}{\\theta^2 \\psi_2^K} \\omega^2$$\n",
    "$$RV_N^*[Y]\\xrightarrow{\\text{p}} [X]_1, \\quad BV_N^*[Y] \\xrightarrow{\\text{p}} \\int_0^1 \\sigma_s^2 ds, \\quad \\text{as} \\ N \\rightarrow \\infty$$"
   ]
  },
  {
   "cell_type": "markdown",
   "metadata": {
    "slideshow": {
     "slide_type": "slide"
    }
   },
   "source": [
    "### Statistical test: whether there exist jump\n",
    "\n",
    "-Null hypothesis: no jump\n",
    "$$ \\frac{N^{\\frac{1}{4}}(RV_N^*[Y] - BV_N^*[Y])}{\\sqrt{\\Sigma_{11}^* +\\Sigma_{22}^* - 2\\Sigma_{12}^*}} \\xrightarrow{\\text{d}} N(0,1)$$\n",
    "\n",
    "-Estimate $\\Sigma^*$\n",
    "* <font color=blue> Good: positive semi-definite</font>\n",
    "* novel block subsample estimator\n",
    "\n",
    "-Controlled Monte Carlo experiments to gauge the accuracy of noise-robust pre-averaging theory\n",
    "\n",
    "### Empirical application\n",
    "\n",
    "-Data description\n",
    "\n",
    "1. horizon: Jan 2007 to Mar 2011 (include exceptional turbulence)\n",
    "\n",
    "2. data type: both quote and trade data with milli-second precision time-stamps\n",
    "\n",
    " * Equities: DJIA, QQQ, SPY (9:00-16:00 local NY time)\n",
    " * Foreign currency: EURUSD, USDJPY, USDCHF (7:00-19:00 GMT)\n",
    "\n",
    "over $4000000000$ observation!"
   ]
  },
  {
   "cell_type": "markdown",
   "metadata": {
    "slideshow": {
     "slide_type": "slide"
    }
   },
   "source": [
    "\n",
    "<h2><img src=\"https://raw.githubusercontent.com/XinluXiao/MTH9879-Market-Microstructure/master/presentation/table3.png\" align = \"center\" width=800></h2>\n",
    "<h2><img src=\"https://raw.githubusercontent.com/XinluXiao/MTH9879-Market-Microstructure/master/presentation/table3(2).png\" align = \"center\" width=800></h2>\n",
    "<h2><img src=\"https://raw.githubusercontent.com/XinluXiao/MTH9879-Market-Microstructure/master/presentation/figure6.png\" align = \"center\" width=800></h2>\n"
   ]
  },
  {
   "cell_type": "markdown",
   "metadata": {
    "slideshow": {
     "slide_type": "slide"
    }
   },
   "source": [
    "### Example: option trading with reheding\n",
    "\n",
    "-Senario: a market maker providing liquidity in short-term ATM call options get paid on a quote one day before maturity of the contract\n",
    "<h2><img src=\"https://raw.githubusercontent.com/XinluXiao/MTH9879-Market-Microstructure/master/presentation/figure10.png\" align = \"center\" width=800></h2>\n"
   ]
  }
 ],
 "metadata": {
  "celltoolbar": "Slideshow",
  "kernelspec": {
   "display_name": "Python 3",
   "language": "python",
   "name": "python3"
  },
  "language_info": {
   "codemirror_mode": {
    "name": "ipython",
    "version": 3
   },
   "file_extension": ".py",
   "mimetype": "text/x-python",
   "name": "python",
   "nbconvert_exporter": "python",
   "pygments_lexer": "ipython3",
   "version": "3.6.0"
  }
 },
 "nbformat": 4,
 "nbformat_minor": 2
}
